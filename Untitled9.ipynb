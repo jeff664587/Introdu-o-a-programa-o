{
  "nbformat": 4,
  "nbformat_minor": 0,
  "metadata": {
    "colab": {
      "provenance": [],
      "authorship_tag": "ABX9TyONAxpuvrKMoGiGYvKTIsa3",
      "include_colab_link": true
    },
    "kernelspec": {
      "name": "python3",
      "display_name": "Python 3"
    },
    "language_info": {
      "name": "python"
    }
  },
  "cells": [
    {
      "cell_type": "markdown",
      "metadata": {
        "id": "view-in-github",
        "colab_type": "text"
      },
      "source": [
        "<a href=\"https://colab.research.google.com/github/jeff664587/Introdu-o-a-programa-o/blob/main/Untitled9.ipynb\" target=\"_parent\"><img src=\"https://colab.research.google.com/assets/colab-badge.svg\" alt=\"Open In Colab\"/></a>"
      ]
    },
    {
      "cell_type": "code",
      "execution_count": 4,
      "metadata": {
        "colab": {
          "base_uri": "https://localhost:8080/",
          "height": 106
        },
        "id": "9OrOyVqBZBFB",
        "outputId": "a3364665-6290-473c-bf20-9e98f929d47b"
      },
      "outputs": [
        {
          "output_type": "error",
          "ename": "SyntaxError",
          "evalue": "unmatched ')' (<ipython-input-4-4e4a3a956c96>, line 12)",
          "traceback": [
            "\u001b[0;36m  File \u001b[0;32m\"<ipython-input-4-4e4a3a956c96>\"\u001b[0;36m, line \u001b[0;32m12\u001b[0m\n\u001b[0;31m    contador=(contador)+1)\u001b[0m\n\u001b[0m                         ^\u001b[0m\n\u001b[0;31mSyntaxError\u001b[0m\u001b[0;31m:\u001b[0m unmatched ')'\n"
          ]
        }
      ],
      "source": [
        "#Imprimir todos os números exceto 13( laço 'for... in range')\n",
        "for i in range(1, 21):\n",
        "if(i ==13):\n",
        "continue\n",
        "else:\n",
        "print (i)\n",
        "\n",
        "#Imprimir todos os números exceto 13 (laço 'while')\n",
        "contador='1'\n",
        "while (contador <=20):\n",
        "  if(contador == 13):\n",
        "    contador=(contador)+1)\n",
        "    continue\n",
        "  else:\n",
        "    print(contador)\n",
        "  contador= contador + 1\n",
        "\n",
        "  #Imprimir todos os números exceto 13 em ordem descendente\n",
        "  for i in range (20 , 0 , 1):\n",
        "if(i == 13):\n",
        "continue\n",
        "else:\n",
        "print (i)\n"
      ]
    }
  ]
}